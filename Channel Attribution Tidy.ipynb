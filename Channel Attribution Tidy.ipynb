{
 "cells": [
  {
   "cell_type": "markdown",
   "metadata": {},
   "source": [
    "Data is added and read, then sorted below, by unique identifier (Cookie ID / Softrip ID) and chronologically"
   ]
  },
  {
   "cell_type": "code",
   "execution_count": 1,
   "metadata": {},
   "outputs": [],
   "source": [
    "import pandas as pd\n",
    "import numpy as np\n",
    "from collections import defaultdict\n",
    "\n",
    "\n",
    "df = pd.read_csv('attribution data.csv')\n",
    "\n",
    "df = df.sort_values(['cookie', 'time'],\n",
    "                                    ascending=[False, True])\n",
    "\n",
    "df['visit_order'] = df.groupby('cookie').cumcount() + 1\n",
    "\n"
   ]
  },
  {
   "cell_type": "markdown",
   "metadata": {},
   "source": [
    "Next a sequential counter column is added to count the actions for each unique cookie"
   ]
  },
  {
   "cell_type": "markdown",
   "metadata": {},
   "source": [
    "The data is still arranged in rows for each action, we need to construct pathways for each unique cookie (conversion of data frame from long-form to wide-form like a pivot).\n",
    "After this a 'null' or 'conversion' needs to be added to determine whether a conversion (booking/lead etc.) has been completed."
   ]
  },
  {
   "cell_type": "markdown",
   "metadata": {},
   "source": [
    "Separate out multi bookers"
   ]
  },
  {
   "cell_type": "code",
   "execution_count": 2,
   "metadata": {},
   "outputs": [],
   "source": [
    "cookietodrop = df.groupby('cookie')['conversion'].sum().reset_index()\n",
    "\n",
    "ctd = cookietodrop[cookietodrop['conversion'] >1]\n",
    "\n",
    "ctd = ctd.drop(columns = ['conversion'])\n",
    "\n",
    "ctd\n",
    "\n",
    "ctdl = ctd.values.tolist()\n",
    "\n",
    "dfmulti = df[df['cookie'].isin(ctdl)]\n",
    "\n",
    "df = df[~df['cookie'].isin(ctdl)]"
   ]
  },
  {
   "cell_type": "markdown",
   "metadata": {},
   "source": [
    "Aggregate rows to pathways by unique cookie ID"
   ]
  },
  {
   "cell_type": "code",
   "execution_count": 3,
   "metadata": {},
   "outputs": [],
   "source": [
    "df_paths = df.groupby('cookie')['channel'].aggregate(\n",
    "    lambda x: x.unique().tolist()).reset_index()\n",
    "\n",
    "df_last_interaction = df.drop_duplicates('cookie', keep='last') [['cookie', 'conversion', 'conversion_value']]\n",
    "\n",
    "df_paths = pd.merge(df_paths, df_last_interaction, how='left', on='cookie')"
   ]
  },
  {
   "cell_type": "markdown",
   "metadata": {},
   "source": [
    "Formatting step to drop unrequired columns and ensure other columns / dataframe are correct. \n",
    "Also add null column to help produce accurate weighting."
   ]
  },
  {
   "cell_type": "code",
   "execution_count": 4,
   "metadata": {},
   "outputs": [],
   "source": [
    "patheroo = df_paths[['channel', 'conversion', 'conversion_value']].copy()\n",
    "patheroo['nulls'] = (patheroo['conversion'] <1)\n",
    "patheroo['nulls'] = patheroo['nulls'].astype(int)\n",
    "df = list(patheroo.itertuples(index=False, name=None))"
   ]
  },
  {
   "cell_type": "markdown",
   "metadata": {},
   "source": [
    "Additional Formatting Step to make data frames suitable for modelling.\n",
    "Also create two data frames, one for multichannel pathways, and one for single channel pathways.\n",
    "Single channel pathways are not suitable for the modelling process, and need to be added back into the calcualtions after the fact."
   ]
  },
  {
   "cell_type": "code",
   "execution_count": 5,
   "metadata": {},
   "outputs": [],
   "source": [
    "from pandas import DataFrame\n",
    "df = DataFrame(df, columns=(['path'], ['conversion'], ['conversion_value'], ['null']))\n",
    "df.columns = ['Path', 'Conversion', 'Conversion_Value', 'Null']\n",
    "df['pathstring'] = [', '.join(map(str, l)) for l in df['Path']] \n",
    "df_single = df[~df['pathstring'].str.contains(',', na= False)]\n",
    "df_multi = df[df['pathstring'].str.contains(',', na= False)]\n",
    "df_single.to_csv('removesinglechann.csv')"
   ]
  },
  {
   "cell_type": "markdown",
   "metadata": {},
   "source": [
    "Import and define markov model, 1st Order"
   ]
  },
  {
   "cell_type": "code",
   "execution_count": 6,
   "metadata": {},
   "outputs": [],
   "source": [
    "from pychattr.channel_attribution import MarkovModel\n",
    "mm = MarkovModel\n",
    "mm = mm(path_feature = 'pathstring', \n",
    "        conversion_feature='Conversion', \n",
    "        null_feature='Null', \n",
    "        cost_feature='Conversion_Value', \n",
    "        separator=',', \n",
    "        k_order=1, \n",
    "        n_simulations=10000, \n",
    "        max_steps=None, \n",
    "        return_transition_probs=True,\n",
    "        )"
   ]
  },
  {
   "cell_type": "markdown",
   "metadata": {},
   "source": [
    "Fit 1st Order Model"
   ]
  },
  {
   "cell_type": "code",
   "execution_count": 7,
   "metadata": {
    "scrolled": true
   },
   "outputs": [],
   "source": [
    "mm.fit(df_multi)\n",
    "mm.attribution_model_.to_csv('Conversions.csv')\n",
    "mm.removal_effects_.to_csv('RemovalEffect.csv')\n"
   ]
  },
  {
   "cell_type": "code",
   "execution_count": 8,
   "metadata": {},
   "outputs": [],
   "source": [
    "import seaborn as sns\n",
    "import matplotlib.pyplot as plt\n",
    "\n",
    "heatmapdata = (mm.transition_matrix_)\n"
   ]
  },
  {
   "cell_type": "code",
   "execution_count": 9,
   "metadata": {},
   "outputs": [
    {
     "data": {
      "text/html": [
       "<div>\n",
       "<style scoped>\n",
       "    .dataframe tbody tr th:only-of-type {\n",
       "        vertical-align: middle;\n",
       "    }\n",
       "\n",
       "    .dataframe tbody tr th {\n",
       "        vertical-align: top;\n",
       "    }\n",
       "\n",
       "    .dataframe thead th {\n",
       "        text-align: right;\n",
       "    }\n",
       "</style>\n",
       "<table border=\"1\" class=\"dataframe\">\n",
       "  <thead>\n",
       "    <tr style=\"text-align: right;\">\n",
       "      <th></th>\n",
       "      <th>channel_from</th>\n",
       "      <th>channel_to</th>\n",
       "      <th>transition_probability</th>\n",
       "    </tr>\n",
       "  </thead>\n",
       "  <tbody>\n",
       "    <tr>\n",
       "      <th>0</th>\n",
       "      <td>(start)</td>\n",
       "      <td>Instagram,Online Display</td>\n",
       "      <td>0.009985</td>\n",
       "    </tr>\n",
       "    <tr>\n",
       "      <th>1</th>\n",
       "      <td>(start)</td>\n",
       "      <td>Instagram,Facebook</td>\n",
       "      <td>0.167005</td>\n",
       "    </tr>\n",
       "    <tr>\n",
       "      <th>2</th>\n",
       "      <td>(start)</td>\n",
       "      <td>Online Display,Paid Search</td>\n",
       "      <td>0.062728</td>\n",
       "    </tr>\n",
       "    <tr>\n",
       "      <th>3</th>\n",
       "      <td>(start)</td>\n",
       "      <td>Online Video,Facebook</td>\n",
       "      <td>0.035121</td>\n",
       "    </tr>\n",
       "    <tr>\n",
       "      <th>4</th>\n",
       "      <td>(start)</td>\n",
       "      <td>Paid Search,Online Video</td>\n",
       "      <td>0.039080</td>\n",
       "    </tr>\n",
       "    <tr>\n",
       "      <th>...</th>\n",
       "      <td>...</td>\n",
       "      <td>...</td>\n",
       "      <td>...</td>\n",
       "    </tr>\n",
       "    <tr>\n",
       "      <th>115</th>\n",
       "      <td>Online Video,Online Display</td>\n",
       "      <td>(null)</td>\n",
       "      <td>0.753548</td>\n",
       "    </tr>\n",
       "    <tr>\n",
       "      <th>116</th>\n",
       "      <td>Online Video,Online Display</td>\n",
       "      <td>Online Display,Paid Search</td>\n",
       "      <td>0.068387</td>\n",
       "    </tr>\n",
       "    <tr>\n",
       "      <th>117</th>\n",
       "      <td>Online Video,Online Display</td>\n",
       "      <td>(conversion)</td>\n",
       "      <td>0.072258</td>\n",
       "    </tr>\n",
       "    <tr>\n",
       "      <th>118</th>\n",
       "      <td>Online Video,Online Display</td>\n",
       "      <td>Online Display,Instagram</td>\n",
       "      <td>0.025806</td>\n",
       "    </tr>\n",
       "    <tr>\n",
       "      <th>119</th>\n",
       "      <td>Online Video,Online Display</td>\n",
       "      <td>Online Display,Facebook</td>\n",
       "      <td>0.080000</td>\n",
       "    </tr>\n",
       "  </tbody>\n",
       "</table>\n",
       "<p>120 rows × 3 columns</p>\n",
       "</div>"
      ],
      "text/plain": [
       "                    channel_from                  channel_to  \\\n",
       "0                        (start)    Instagram,Online Display   \n",
       "1                        (start)          Instagram,Facebook   \n",
       "2                        (start)  Online Display,Paid Search   \n",
       "3                        (start)       Online Video,Facebook   \n",
       "4                        (start)    Paid Search,Online Video   \n",
       "..                           ...                         ...   \n",
       "115  Online Video,Online Display                      (null)   \n",
       "116  Online Video,Online Display  Online Display,Paid Search   \n",
       "117  Online Video,Online Display                (conversion)   \n",
       "118  Online Video,Online Display    Online Display,Instagram   \n",
       "119  Online Video,Online Display     Online Display,Facebook   \n",
       "\n",
       "     transition_probability  \n",
       "0                  0.009985  \n",
       "1                  0.167005  \n",
       "2                  0.062728  \n",
       "3                  0.035121  \n",
       "4                  0.039080  \n",
       "..                      ...  \n",
       "115                0.753548  \n",
       "116                0.068387  \n",
       "117                0.072258  \n",
       "118                0.025806  \n",
       "119                0.080000  \n",
       "\n",
       "[120 rows x 3 columns]"
      ]
     },
     "execution_count": 9,
     "metadata": {},
     "output_type": "execute_result"
    }
   ],
   "source": [
    "heatmapdata"
   ]
  },
  {
   "cell_type": "code",
   "execution_count": null,
   "metadata": {},
   "outputs": [],
   "source": [
    "hmpd = heatmapdata.pivot(index='channel_from', columns='channel_to', values='transition_probability')\n",
    "fig, ax = plt.subplots(figsize=(12,8))\n",
    "ax = sns.heatmap(hmpd, cmap='Greens', annot=True, vmin=0, vmax=1)\n",
    "ax.set_title('Customer Journey Transition Correlations')\n",
    "fig.savefig('Heatmap.pdf')"
   ]
  }
 ],
 "metadata": {
  "kernelspec": {
   "display_name": "Python 3",
   "language": "python",
   "name": "python3"
  },
  "language_info": {
   "codemirror_mode": {
    "name": "ipython",
    "version": 3
   },
   "file_extension": ".py",
   "mimetype": "text/x-python",
   "name": "python",
   "nbconvert_exporter": "python",
   "pygments_lexer": "ipython3",
   "version": "3.7.6"
  }
 },
 "nbformat": 4,
 "nbformat_minor": 4
}
